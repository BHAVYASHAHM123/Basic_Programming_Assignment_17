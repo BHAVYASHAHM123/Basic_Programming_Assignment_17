{
  "nbformat": 4,
  "nbformat_minor": 0,
  "metadata": {
    "colab": {
      "name": "Basic_Programming_Assignment_17.ipynb",
      "provenance": []
    },
    "kernelspec": {
      "name": "python3",
      "display_name": "Python 3"
    },
    "language_info": {
      "name": "python"
    }
  },
  "cells": [
    {
      "cell_type": "markdown",
      "source": [
        "Q1) \n",
        "Create a function that takes three arguments a, b, c and returns the sum of the\n",
        "numbers that are evenly divided by c from the range a, b inclusive.\n",
        "Examples\n",
        "evenly_divisible(1, 10, 20) ➞ 0\n",
        "evenly_divisible(1, 10, 2) ➞ 30\n",
        "evenly_divisible(1, 10, 3) ➞ 18\n"
      ],
      "metadata": {
        "id": "KUqHR-eqQiWa"
      }
    },
    {
      "cell_type": "code",
      "execution_count": 1,
      "metadata": {
        "colab": {
          "base_uri": "https://localhost:8080/"
        },
        "id": "bWlmUMvCQfmU",
        "outputId": "fc4f3a39-5495-4499-8ac0-144b749445bc"
      },
      "outputs": [
        {
          "output_type": "stream",
          "name": "stdout",
          "text": [
            "Enter a : 1\n",
            "Enter b : 10\n",
            "Enter c : 20\n",
            "0\n"
          ]
        }
      ],
      "source": [
        "def sumDivisibles(a, b, c):     \n",
        "    sum = 0\n",
        "    for i in range(a, b + 1): \n",
        "        if (i % c == 0):\n",
        "            sum += i \n",
        "    return sum\n",
        "a = int(input('Enter a : '))\n",
        "b = int(input('Enter b : '))\n",
        "c = int(input('Enter c : '))\n",
        "print(sumDivisibles(a, b, c))"
      ]
    },
    {
      "cell_type": "markdown",
      "source": [
        "Q2) \n",
        "Create a function that returns True if a given inequality expression is correct and\n",
        "False otherwise.\n",
        "Examples|\n",
        "correct_signs(\"3 > 7 < 11\") ➞ True\n",
        "correct_signs(\"13 > 44 > 33 > 1\") ➞ False\n",
        "correct_signs(\"1 < 2 < 6 < 9 > 3\") ➞ True"
      ],
      "metadata": {
        "id": "u1Q3jYGRQ3B7"
      }
    },
    {
      "cell_type": "code",
      "source": [
        "def correct_signs ( txt ) : \n",
        "    return eval ( txt )\n",
        "print(correct_signs(\"3 > 7 < 11\"))\n",
        "print(correct_signs(\"13 > 44 > 33 > 1\"))\n",
        "print(correct_signs(\"1 < 2 < 6 < 9 > 3\"))"
      ],
      "metadata": {
        "colab": {
          "base_uri": "https://localhost:8080/"
        },
        "id": "3A9J7351QrMn",
        "outputId": "38186674-4393-4962-e300-9b2a978c8207"
      },
      "execution_count": 2,
      "outputs": [
        {
          "output_type": "stream",
          "name": "stdout",
          "text": [
            "False\n",
            "False\n",
            "True\n"
          ]
        }
      ]
    },
    {
      "cell_type": "markdown",
      "source": [
        "Q3) \n",
        "Create a function that replaces all the vowels in a string with a specified character.\n",
        "Examples\n",
        "replace_vowels('the aardvark, '#') ➞ 'th# ##rdv#rk'\n",
        "replace_vowels('minnie mouse', '?') ➞ 'm?nn?? m??s?'\n",
        "replace_vowels('shakespeare', '*') ➞ 'sh*k*sp**r*'"
      ],
      "metadata": {
        "id": "93tCzGfdRClc"
      }
    },
    {
      "cell_type": "code",
      "source": [
        "def replace_vowels(str, s):\n",
        "    vowels = 'AEIOUaeiou'\n",
        "    for ele in vowels:  \n",
        "        str = str.replace(ele, s)  \n",
        "    return str\n",
        "  \n",
        "input_str = input(\"enter a string : \")\n",
        "s = input(\"enter a vowel replacing string : \")\n",
        "print(\"\\nGiven Sting:\", input_str)\n",
        "print(\"Given Specified Character:\", s)\n",
        "print(\"Afer replacing vowels with the specified character:\",replace_vowels(input_str, s))"
      ],
      "metadata": {
        "colab": {
          "base_uri": "https://localhost:8080/"
        },
        "id": "WmqSFKCjRAFx",
        "outputId": "4b157d47-fd98-4405-f8df-67d6887583fb"
      },
      "execution_count": 4,
      "outputs": [
        {
          "output_type": "stream",
          "name": "stdout",
          "text": [
            "enter a string : shakespeare\n",
            "enter a vowel replacing string : #\n",
            "\n",
            "Given Sting: shakespeare\n",
            "Given Specified Character: #\n",
            "Afer replacing vowels with the specified character: sh#k#sp##r#\n"
          ]
        }
      ]
    },
    {
      "cell_type": "markdown",
      "source": [
        "Q4) Write a function that calculates the factorial of a number recursively.\n",
        "Examples\n",
        "factorial(5) ➞ 120\n",
        "factorial(3) ➞ 6\n",
        "factorial(1) ➞ 1\n",
        "factorial(0) ➞ 1"
      ],
      "metadata": {
        "id": "rXkpGuxHRbpd"
      }
    },
    {
      "cell_type": "code",
      "source": [
        "def factorial(n):     \n",
        "    if n == 0:\n",
        "        return 1    \n",
        "    return n * factorial(n-1)\n",
        "\n",
        "num = int(input('enter a number :'))\n",
        "print(\"Factorial of\", num, \"is\", factorial(num))"
      ],
      "metadata": {
        "colab": {
          "base_uri": "https://localhost:8080/"
        },
        "id": "xc5n3JhORJOk",
        "outputId": "5b2d0b81-22e8-4eb4-c3d3-84a767df4abb"
      },
      "execution_count": 5,
      "outputs": [
        {
          "output_type": "stream",
          "name": "stdout",
          "text": [
            "enter a number :5\n",
            "Factorial of 5 is 120\n"
          ]
        }
      ]
    },
    {
      "cell_type": "markdown",
      "source": [
        "Q5) \n",
        "Hamming distance is the number of characters that differ between two strings.\n",
        "To illustrate:\n",
        "String1: 'abcbba'\n",
        "String2: 'abcbda'\n",
        "Hamming Distance: 1 - 'b' vs. 'd' is the only difference.\n",
        "Create a function that computes the hamming distance between two strings.\n",
        "Examples\n",
        "hamming_distance('abcde', 'bcdef') ➞ 5\n",
        "hamming_distance('abcde', 'abcde') ➞ 0\n",
        "hamming_distance('strong', 'strung') ➞ 1"
      ],
      "metadata": {
        "id": "i5AEqKl-RnHB"
      }
    },
    {
      "cell_type": "code",
      "source": [
        "def hamming_distance(str1, str2):\n",
        "    i = 0\n",
        "    count = 0\n",
        " \n",
        "    while(i < len(str1)):\n",
        "        if(str1[i] != str2[i]):\n",
        "            count += 1\n",
        "        i += 1\n",
        "    return count\n",
        " \n",
        "str1 = \"abcde\"\n",
        "str2 = \"bcdef\"\n",
        " \n",
        "print(hamming_distance(str1, str2))"
      ],
      "metadata": {
        "colab": {
          "base_uri": "https://localhost:8080/"
        },
        "id": "hOUAd-J-Rgka",
        "outputId": "56efc268-b5ff-4135-a4b7-883db67ba27b"
      },
      "execution_count": 7,
      "outputs": [
        {
          "output_type": "stream",
          "name": "stdout",
          "text": [
            "5\n"
          ]
        }
      ]
    },
    {
      "cell_type": "code",
      "source": [
        "print(hamming_distance('strong', 'strung'))\n"
      ],
      "metadata": {
        "colab": {
          "base_uri": "https://localhost:8080/"
        },
        "id": "GRTBkTrHRqN6",
        "outputId": "6be06d13-a68c-41b3-9008-3b7404cb0e18"
      },
      "execution_count": 8,
      "outputs": [
        {
          "output_type": "stream",
          "name": "stdout",
          "text": [
            "1\n"
          ]
        }
      ]
    },
    {
      "cell_type": "code",
      "source": [
        "hamming_distance('abcde', 'abcde')\n"
      ],
      "metadata": {
        "colab": {
          "base_uri": "https://localhost:8080/"
        },
        "id": "jaZKdYTjR2Oj",
        "outputId": "5868c799-781d-4020-b4eb-72103c3fb10e"
      },
      "execution_count": 9,
      "outputs": [
        {
          "output_type": "execute_result",
          "data": {
            "text/plain": [
              "0"
            ]
          },
          "metadata": {},
          "execution_count": 9
        }
      ]
    },
    {
      "cell_type": "code",
      "source": [
        ""
      ],
      "metadata": {
        "id": "xQDMxVVrR3uS"
      },
      "execution_count": null,
      "outputs": []
    }
  ]
}